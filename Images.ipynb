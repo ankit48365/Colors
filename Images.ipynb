{
  "nbformat": 4,
  "nbformat_minor": 0,
  "metadata": {
    "colab": {
      "name": "Images.ipynb",
      "provenance": [],
      "collapsed_sections": [],
      "toc_visible": true,
      "include_colab_link": true
    },
    "kernelspec": {
      "name": "python3",
      "display_name": "Python 3"
    },
    "accelerator": "GPU"
  },
  "cells": [
    {
      "cell_type": "markdown",
      "metadata": {
        "id": "view-in-github",
        "colab_type": "text"
      },
      "source": [
        "<a href=\"https://colab.research.google.com/github/ankit48365/Colors/blob/master/Images.ipynb\" target=\"_parent\"><img src=\"https://colab.research.google.com/assets/colab-badge.svg\" alt=\"Open In Colab\"/></a>"
      ]
    },
    {
      "cell_type": "markdown",
      "metadata": {
        "id": "43dlnrPshock",
        "colab_type": "text"
      },
      "source": [
        "**Source - [link text](http://deeplearning.net/tutorial/lenet.html)**"
      ]
    },
    {
      "cell_type": "markdown",
      "metadata": {
        "id": "LKbGxk_Xh-g3",
        "colab_type": "text"
      },
      "source": [
        "Mount the Google Drive"
      ]
    },
    {
      "cell_type": "code",
      "metadata": {
        "id": "rbNGZwFNlBWT",
        "colab_type": "code",
        "colab": {
          "base_uri": "https://localhost:8080/",
          "height": 128
        },
        "outputId": "777dc93d-7ecf-457a-d34f-af200fdf209e"
      },
      "source": [
        "from google.colab import drive\n",
        "drive.mount('/content/drive')"
      ],
      "execution_count": null,
      "outputs": [
        {
          "output_type": "stream",
          "text": [
            "Go to this URL in a browser: https://accounts.google.com/o/oauth2/auth?client_id=947318989803-6bn6qk8qdgf4n4g3pfee6491hc0brc4i.apps.googleusercontent.com&redirect_uri=urn%3aietf%3awg%3aoauth%3a2.0%3aoob&response_type=code&scope=email%20https%3a%2f%2fwww.googleapis.com%2fauth%2fdocs.test%20https%3a%2f%2fwww.googleapis.com%2fauth%2fdrive%20https%3a%2f%2fwww.googleapis.com%2fauth%2fdrive.photos.readonly%20https%3a%2f%2fwww.googleapis.com%2fauth%2fpeopleapi.readonly\n",
            "\n",
            "Enter your authorization code:\n",
            "··········\n",
            "Mounted at /content/drive\n"
          ],
          "name": "stdout"
        }
      ]
    },
    {
      "cell_type": "markdown",
      "metadata": {
        "id": "u4lqfS5Zlah3",
        "colab_type": "text"
      },
      "source": [
        "After Drive is mounted, expand the left pan, select the file, right click and Copy Path and paste in code."
      ]
    },
    {
      "cell_type": "code",
      "metadata": {
        "id": "N5fD_Su5lbCe",
        "colab_type": "code",
        "colab": {}
      },
      "source": [
        "import numpy as np\n",
        "import pylab\n",
        "from PIL import Image\n",
        "\n",
        "AlexD = Image.open(\"/content/drive/My Drive/DataSets/numbers/0.1.png\")"
      ],
      "execution_count": null,
      "outputs": []
    },
    {
      "cell_type": "code",
      "metadata": {
        "id": "YE_m8bLLmaRz",
        "colab_type": "code",
        "colab": {}
      },
      "source": [
        "AlexD.show()\n",
        "#this worked but didnt show any output"
      ],
      "execution_count": null,
      "outputs": []
    },
    {
      "cell_type": "code",
      "metadata": {
        "id": "v7ThptYTomjN",
        "colab_type": "code",
        "colab": {
          "base_uri": "https://localhost:8080/",
          "height": 34
        },
        "outputId": "c3946509-0c7f-4aff-b130-3c0fa8ef88e6"
      },
      "source": [
        "AlexD.size\n",
        "#This will show image dimensions"
      ],
      "execution_count": null,
      "outputs": [
        {
          "output_type": "execute_result",
          "data": {
            "text/plain": [
              "(8, 8)"
            ]
          },
          "metadata": {
            "tags": []
          },
          "execution_count": 3
        }
      ]
    },
    {
      "cell_type": "markdown",
      "metadata": {
        "id": "8C1xUrvkn3Md",
        "colab_type": "text"
      },
      "source": [
        "Dimensions are (height, width, channel)"
      ]
    },
    {
      "cell_type": "code",
      "metadata": {
        "id": "pBVd3EZBn6sy",
        "colab_type": "code",
        "colab": {}
      },
      "source": [
        "AlexD1 = numpy.asarray(AlexD, dtype='float64') / 256."
      ],
      "execution_count": null,
      "outputs": []
    },
    {
      "cell_type": "markdown",
      "metadata": {
        "id": "pr6mT207oQL7",
        "colab_type": "text"
      },
      "source": [
        "Put image in 4D tensor of shape (1, 3, height, width)"
      ]
    },
    {
      "cell_type": "code",
      "metadata": {
        "id": "_MPE5KR4oQY_",
        "colab_type": "code",
        "colab": {}
      },
      "source": [
        "Alex_ = AlexD1.transpose(2, 0, 1).reshape(1, 3, 290, 516)\n",
        "#filtered_img = f(Alex_)"
      ],
      "execution_count": null,
      "outputs": []
    },
    {
      "cell_type": "markdown",
      "metadata": {
        "id": "svTHn0N4qPiJ",
        "colab_type": "text"
      },
      "source": [
        "plot original image and first and second components of output"
      ]
    },
    {
      "cell_type": "code",
      "metadata": {
        "id": "_-8wfF5IqPsK",
        "colab_type": "code",
        "colab": {
          "base_uri": "https://localhost:8080/",
          "height": 86
        },
        "outputId": "29b90733-4cf7-4b07-a2b1-1c935ccf8ca5"
      },
      "source": [
        "pylab.subplot(1, 3, 1); pylab.axis('off'); pylab.imshow(AlexD1)\n",
        "pylab.gray();"
      ],
      "execution_count": null,
      "outputs": [
        {
          "output_type": "display_data",
          "data": {
            "image/png": "[encoded data removed]",
            "text/plain": [
              "<Figure size 432x288 with 1 Axes>"
            ]
          },
          "metadata": {
            "tags": []
          }
        }
      ]
    },
    {
      "cell_type": "markdown",
      "metadata": {
        "id": "_Yl5rL_Kqhcf",
        "colab_type": "text"
      },
      "source": [
        "recall that the convOp output (filtered image) is actually a \"minibatch\",\n",
        "of size 1 here, so we take index 0 in the first dimension:\n"
      ]
    },
    {
      "cell_type": "code",
      "metadata": {
        "id": "BCI5rlTTqhn_",
        "colab_type": "code",
        "colab": {
          "base_uri": "https://localhost:8080/",
          "height": 86
        },
        "outputId": "b1347ac0-877a-4e71-e81c-c47f6a081486"
      },
      "source": [
        "pylab.subplot(1, 3, 2); pylab.axis('off'); pylab.imshow(Alex_[0, 0, :, :])\n",
        "pylab.subplot(1, 3, 3); pylab.axis('off'); pylab.imshow(Alex_[0, 1, :, :])\n",
        "pylab.show()"
      ],
      "execution_count": null,
      "outputs": [
        {
          "output_type": "display_data",
          "data": {
            "image/png": "[encoded data removed]",
            "text/plain": [
              "<Figure size 432x288 with 2 Axes>"
            ]
          },
          "metadata": {
            "tags": []
          }
        }
      ]
    },
    {
      "cell_type": "markdown",
      "metadata": {
        "id": "1MN5JSD5Un4n",
        "colab_type": "text"
      },
      "source": [
        "#New Section\n",
        "Sentdex - Image recognition in Python Youtube"
      ]
    },
    {
      "cell_type": "code",
      "metadata": {
        "id": "sxtf2BvxrvXA",
        "colab_type": "code",
        "colab": {
          "base_uri": "https://localhost:8080/",
          "height": 128
        },
        "outputId": "66e32a98-a720-46ff-dd0f-3b4f38484429"
      },
      "source": [
        "from google.colab import drive\n",
        "drive.mount('/content/drive')"
      ],
      "execution_count": null,
      "outputs": [
        {
          "output_type": "stream",
          "text": [
            "Go to this URL in a browser: https://accounts.google.com/o/oauth2/auth?client_id=947318989803-6bn6qk8qdgf4n4g3pfee6491hc0brc4i.apps.googleusercontent.com&redirect_uri=urn%3aietf%3awg%3aoauth%3a2.0%3aoob&response_type=code&scope=email%20https%3a%2f%2fwww.googleapis.com%2fauth%2fdocs.test%20https%3a%2f%2fwww.googleapis.com%2fauth%2fdrive%20https%3a%2f%2fwww.googleapis.com%2fauth%2fdrive.photos.readonly%20https%3a%2f%2fwww.googleapis.com%2fauth%2fpeopleapi.readonly\n",
            "\n",
            "Enter your authorization code:\n",
            "··········\n",
            "Mounted at /content/drive\n"
          ],
          "name": "stdout"
        }
      ]
    },
    {
      "cell_type": "code",
      "metadata": {
        "id": "qa03Uu4WUxIK",
        "colab_type": "code",
        "colab": {}
      },
      "source": [
        "import numpy as np\n",
        "import pylab\n",
        "from PIL import Image\n",
        "\n",
        "AlexD = Image.open(\"/content/drive/My Drive/DataSets/numbers/0.1.png\")"
      ],
      "execution_count": null,
      "outputs": []
    },
    {
      "cell_type": "markdown",
      "metadata": {
        "id": "IKTB9S93U9jj",
        "colab_type": "text"
      },
      "source": [
        "**Convert AlexD (image) to an Array**"
      ]
    },
    {
      "cell_type": "code",
      "metadata": {
        "id": "GHLSNxJOVCW7",
        "colab_type": "code",
        "colab": {}
      },
      "source": [
        "iAlexD = np.asarray(AlexD)"
      ],
      "execution_count": null,
      "outputs": []
    },
    {
      "cell_type": "markdown",
      "metadata": {
        "id": "VHmROJLJViPw",
        "colab_type": "text"
      },
      "source": [
        "(8, 8, 4) is iAlexD shape"
      ]
    },
    {
      "cell_type": "code",
      "metadata": {
        "id": "xwA6WLyWVc0O",
        "colab_type": "code",
        "colab": {
          "base_uri": "https://localhost:8080/",
          "height": 35
        },
        "outputId": "8724cc1b-5243-49ce-905f-679f7221a566"
      },
      "source": [
        "iAlexD.shape"
      ],
      "execution_count": null,
      "outputs": [
        {
          "output_type": "execute_result",
          "data": {
            "text/plain": [
              "(8, 8, 4)"
            ]
          },
          "metadata": {
            "tags": []
          },
          "execution_count": 4
        }
      ]
    },
    {
      "cell_type": "code",
      "metadata": {
        "id": "_XgT3f8dV83g",
        "colab_type": "code",
        "colab": {}
      },
      "source": [
        "print(iAlexD)"
      ],
      "execution_count": null,
      "outputs": []
    },
    {
      "cell_type": "markdown",
      "metadata": {
        "id": "ll9SCWwQWXpz",
        "colab_type": "text"
      },
      "source": [
        "As you can see above, when you print iAlexD, you see 8 Array boxes, with 4by8 Matrix Data\n",
        "\n",
        "\n",
        "\n",
        "1.  The big 8 Clusters of Arrays (boxes) repsent the image.\n",
        "2.  Each Array (box) of 4by8 repsent a row of pixels \n",
        "3.  Then in each box when you move from top row by rows with 4 values, those 4 values repsent a single pixel,\n",
        "4. 4 Values for a pixel are Red, Green Blue and last one is meant to show Transperency (transperency is called Alpha, used as full alpha or no alpha)"
      ]
    },
    {
      "cell_type": "markdown",
      "metadata": {
        "id": "kD1FLb8RX71k",
        "colab_type": "text"
      },
      "source": [
        "The matrix above shows color in range from 0-255, i.e. **256 Color Bit Map** not to be confused as **256 Bit Image**\n",
        "\n",
        "**16 Color Bit Map** is a matrix in values ranging from 0-15\n",
        "\n",
        "16 Color Bit Map = 4096 Colors  (16by16by16 )\n",
        "\n",
        "256 Color Bit Map = 16.8 M Colors  (256by256by256)"
      ]
    },
    {
      "cell_type": "markdown",
      "metadata": {
        "id": "8QRFG4Irju8X",
        "colab_type": "text"
      },
      "source": [
        "# MatPlotLib\n",
        "Import MatPlotLib as it makes it easy to view the image in the program itself "
      ]
    },
    {
      "cell_type": "code",
      "metadata": {
        "id": "kS9Pa4bGj8nr",
        "colab_type": "code",
        "colab": {}
      },
      "source": [
        "import matplotlib.pyplot as plt"
      ],
      "execution_count": null,
      "outputs": []
    },
    {
      "cell_type": "code",
      "metadata": {
        "id": "DX2sVI9pkE_T",
        "colab_type": "code",
        "colab": {
          "base_uri": "https://localhost:8080/",
          "height": 283
        },
        "outputId": "cbb9fe03-e6e8-4626-d6c0-047d5c126a23"
      },
      "source": [
        "plt.imshow(iAlexD)\n",
        "plt.show"
      ],
      "execution_count": null,
      "outputs": [
        {
          "output_type": "execute_result",
          "data": {
            "text/plain": [
              "<function matplotlib.pyplot.show>"
            ]
          },
          "metadata": {
            "tags": []
          },
          "execution_count": 7
        },
        {
          "output_type": "display_data",
          "data": {
            "image/png": "[encoded data removed]",
            "text/plain": [
              "<Figure size 432x288 with 1 Axes>"
            ]
          },
          "metadata": {
            "tags": []
          }
        }
      ]
    },
    {
      "cell_type": "markdown",
      "metadata": {
        "id": "PULVV2t0m-DW",
        "colab_type": "text"
      },
      "source": [
        "#Thresholding\n",
        "a number higher then a value becomes white, or other wise black\n",
        "\n",
        "we find average color of an array, everything above that would be white, and everything below that would be black"
      ]
    },
    {
      "cell_type": "code",
      "metadata": {
        "id": "AjH9uZEXnbgb",
        "colab_type": "code",
        "colab": {}
      },
      "source": [
        "import time\n",
        "\n",
        "import matplotlib.pyplot as plt\n",
        "\n",
        "import numpy as np\n",
        "import pylab\n",
        "from PIL import Image"
      ],
      "execution_count": null,
      "outputs": []
    },
    {
      "cell_type": "code",
      "metadata": {
        "id": "Wddg0onK42N5",
        "colab_type": "code",
        "colab": {}
      },
      "source": [
        "from google.colab import drive\n",
        "drive.mount('/content/drive')"
      ],
      "execution_count": null,
      "outputs": []
    },
    {
      "cell_type": "markdown",
      "metadata": {
        "id": "Kv-oECAfxKxd",
        "colab_type": "text"
      },
      "source": [
        "Define Threshold Functiomn"
      ]
    },
    {
      "cell_type": "code",
      "metadata": {
        "id": "eeLt4v_nxJ42",
        "colab_type": "code",
        "colab": {}
      },
      "source": [
        "def Ankit_Threshold(img_arr):\n",
        "  blaceAr = [] \n",
        "  newAr = img_arr\n",
        "\n",
        "  for eachRw in img_arr:\n",
        "    for eachPx in eachRw:\n",
        "      avgN  = reduce()\n",
        "      print (eachPx)\n",
        "      time.sleep(2)"
      ],
      "execution_count": null,
      "outputs": []
    },
    {
      "cell_type": "code",
      "metadata": {
        "id": "vE_dN5GgAHlc",
        "colab_type": "code",
        "colab": {}
      },
      "source": [
        "z = Image.open(\"/content/drive/My Drive/DataSets/numbers/y0.3.png\")\n",
        "zar = np.array(z)\n",
        "\n",
        "z2 = Image.open(\"/content/drive/My Drive/DataSets/numbers/y0.4.png\")\n",
        "zar2 = np.array(z2)\n",
        "\n",
        "z3 = Image.open(\"/content/drive/My Drive/DataSets/numbers/0.2.png\")\n",
        "zar3 = np.array(z3)\n",
        "\n",
        "z4 = Image.open(\"/content/drive/My Drive/DataSets/numbers/0.9.png\")\n",
        "zar4 = np.array(z4)"
      ],
      "execution_count": null,
      "outputs": []
    },
    {
      "cell_type": "code",
      "metadata": {
        "id": "OxWuoHBfAYCl",
        "colab_type": "code",
        "colab": {
          "base_uri": "https://localhost:8080/",
          "height": 298
        },
        "outputId": "1f0c7977-7e90-4ee7-fb98-2f92b8b27884"
      },
      "source": [
        "Ankit_Threshold(zar2)"
      ],
      "execution_count": null,
      "outputs": [
        {
          "output_type": "error",
          "ename": "NameError",
          "evalue": "ignored",
          "traceback": [
            "\u001b[0;31m---------------------------------------------------------------------------\u001b[0m",
            "\u001b[0;31mNameError\u001b[0m                                 Traceback (most recent call last)",
            "\u001b[0;32m<ipython-input-12-f3601224587e>\u001b[0m in \u001b[0;36m<module>\u001b[0;34m()\u001b[0m\n\u001b[0;32m----> 1\u001b[0;31m \u001b[0mAnkit_Threshold\u001b[0m\u001b[0;34m(\u001b[0m\u001b[0mzar2\u001b[0m\u001b[0;34m)\u001b[0m\u001b[0;34m\u001b[0m\u001b[0;34m\u001b[0m\u001b[0m\n\u001b[0m",
            "\u001b[0;32m<ipython-input-10-0e2bf319e266>\u001b[0m in \u001b[0;36mAnkit_Threshold\u001b[0;34m(img_arr)\u001b[0m\n\u001b[1;32m      5\u001b[0m   \u001b[0;32mfor\u001b[0m \u001b[0meachRw\u001b[0m \u001b[0;32min\u001b[0m \u001b[0mimg_arr\u001b[0m\u001b[0;34m:\u001b[0m\u001b[0;34m\u001b[0m\u001b[0;34m\u001b[0m\u001b[0m\n\u001b[1;32m      6\u001b[0m     \u001b[0;32mfor\u001b[0m \u001b[0meachPx\u001b[0m \u001b[0;32min\u001b[0m \u001b[0meachRw\u001b[0m\u001b[0;34m:\u001b[0m\u001b[0;34m\u001b[0m\u001b[0;34m\u001b[0m\u001b[0m\n\u001b[0;32m----> 7\u001b[0;31m       \u001b[0mavgN\u001b[0m  \u001b[0;34m=\u001b[0m \u001b[0mreduce\u001b[0m\u001b[0;34m(\u001b[0m\u001b[0;34m)\u001b[0m\u001b[0;34m\u001b[0m\u001b[0;34m\u001b[0m\u001b[0m\n\u001b[0m\u001b[1;32m      8\u001b[0m       \u001b[0mprint\u001b[0m \u001b[0;34m(\u001b[0m\u001b[0meachPx\u001b[0m\u001b[0;34m)\u001b[0m\u001b[0;34m\u001b[0m\u001b[0;34m\u001b[0m\u001b[0m\n\u001b[1;32m      9\u001b[0m       \u001b[0mtime\u001b[0m\u001b[0;34m.\u001b[0m\u001b[0msleep\u001b[0m\u001b[0;34m(\u001b[0m\u001b[0;36m2\u001b[0m\u001b[0;34m)\u001b[0m\u001b[0;34m\u001b[0m\u001b[0;34m\u001b[0m\u001b[0m\n",
            "\u001b[0;31mNameError\u001b[0m: name 'reduce' is not defined"
          ]
        }
      ]
    },
    {
      "cell_type": "code",
      "metadata": {
        "id": "z9mt90fTAUEu",
        "colab_type": "code",
        "colab": {
          "base_uri": "https://localhost:8080/",
          "height": 265
        },
        "outputId": "bba6d423-f76e-4a96-89f9-31cbcb68f7e8"
      },
      "source": [
        "fig = plt.figure()\n",
        "ax1= plt.subplot2grid((8,6),(0,0), rowspan=4,colspan=3)\n",
        "ax2= plt.subplot2grid((8,6),(4,0), rowspan=4,colspan=3)\n",
        "ax3= plt.subplot2grid((8,6),(0,3), rowspan=4,colspan=3)\n",
        "ax4= plt.subplot2grid((8,6),(4,3), rowspan=4,colspan=3)\n",
        "\n",
        "#zz = [zar,zar2,zar3,zar4]\n",
        "#for AK in zz:\n",
        "ax1.imshow(zar)\n",
        "ax2.imshow(zar2)\n",
        "ax3.imshow(zar3)\n",
        "ax4.imshow(zar4)\n",
        "plt.show()"
      ],
      "execution_count": null,
      "outputs": [
        {
          "output_type": "display_data",
          "data": {
            "image/png": "[encoded data removed]",
            "text/plain": [
              "<Figure size 432x288 with 4 Axes>"
            ]
          },
          "metadata": {
            "tags": []
          }
        }
      ]
    },
    {
      "cell_type": "code",
      "metadata": {
        "id": "dqkcVuL9S6t6",
        "colab_type": "code",
        "colab": {}
      },
      "source": [
        ""
      ],
      "execution_count": null,
      "outputs": []
    }
  ]
}